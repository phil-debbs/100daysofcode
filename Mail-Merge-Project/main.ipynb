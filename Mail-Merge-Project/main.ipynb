{
 "cells": [
  {
   "cell_type": "code",
   "execution_count": 29,
   "metadata": {},
   "outputs": [
    {
     "name": "stdout",
     "output_type": "stream",
     "text": [
      "Completed successfully.\n"
     ]
    }
   ],
   "source": [
    "import re\n",
    "\n",
    "#read the starting_letter\n",
    "startLetter = None\n",
    "with open(\"./input/Letters/starting_letter.txt\") as starting_letter:\n",
    "    startLetter = starting_letter.read()\n",
    "\n",
    "# letter = re.findall(r'\\[.*?\\]', startLetter)\n",
    "# letter = re.findall(r'\\[\\w\\]', startLetter)\n",
    "# print(letter)\n",
    "\n",
    "invitedNames = []\n",
    "with open(\"./input/Names/invited_names.txt\") as invited_names:\n",
    "    # #read line by line and push into list\n",
    "    # for line in invited_names:\n",
    "    #     invitedNames.append(line.strip())\n",
    "\n",
    "    #OR read entire file and use regex to split\n",
    "    content = invited_names.read()\n",
    "    invitedNames = re.split(r'[\\t\\n\\r]',content)\n",
    "    for name in invitedNames:\n",
    "        name = name.strip()\n",
    "        letter = re.sub(r'\\[\\w+\\]', name, startLetter)\n",
    "        with open(f\"./output/readytosend/letter_for_{name}.txt\", 'w') as letterToSend:\n",
    "            letterToSend.write(letter)\n",
    "    print(\"Completed successfully.\")"
   ]
  }
 ],
 "metadata": {
  "kernelspec": {
   "display_name": "Python 3",
   "language": "python",
   "name": "python3"
  },
  "language_info": {
   "codemirror_mode": {
    "name": "ipython",
    "version": 3
   },
   "file_extension": ".py",
   "mimetype": "text/x-python",
   "name": "python",
   "nbconvert_exporter": "python",
   "pygments_lexer": "ipython3",
   "version": "3.11.9"
  }
 },
 "nbformat": 4,
 "nbformat_minor": 2
}
